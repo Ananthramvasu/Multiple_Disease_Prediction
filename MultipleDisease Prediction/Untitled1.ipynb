{
 "cells": [
  {
   "cell_type": "code",
   "execution_count": 1,
   "id": "b03caebf-d364-4c3f-ae09-d07457a309e4",
   "metadata": {},
   "outputs": [],
   "source": [
    "#streamlit display"
   ]
  },
  {
   "cell_type": "code",
   "execution_count": 2,
   "id": "5056a8b8-5140-42ea-8631-2f15cb9f9723",
   "metadata": {},
   "outputs": [],
   "source": [
    "import joblib\n",
    "import pandas as pd\n",
    "import streamlit as st"
   ]
  },
  {
   "cell_type": "code",
   "execution_count": 6,
   "id": "3dfd690c-6289-41c6-9204-73dd9ece0001",
   "metadata": {},
   "outputs": [],
   "source": [
    "model1 = joblib.load('ParkinsonsNotebook.pkl')\n",
    "model2 = joblib.load('IndianLiverDiseaseNotebook.pkl')\n",
    "model3 = joblib.load('KidneyDiseaseNotebook.pkl')"
   ]
  },
  {
   "cell_type": "code",
   "execution_count": 14,
   "id": "e914e275-047a-45ea-817d-a7683e6d38b1",
   "metadata": {},
   "outputs": [],
   "source": [
    "import streamlit as st\n",
    "import numpy as np\n",
    "import joblib\n",
    "\n",
    "# Load models\n",
    "parkinsons_model = joblib.load('ParkinsonsNotebook.pkl')\n",
    "liver_model = joblib.load('IndianLiverDiseaseNotebook.pkl')\n",
    "kidney_model = joblib.load('KidneyDiseaseNotebook.pkl')\n",
    "\n",
    "st.title(\"Disease Prediction App\")\n",
    "disease_option = st.sidebar.selectbox(\"Choose Disease to Predict\", [\"Parkinson's\", \"Liver Disease\", \"Kidney Disease\"])\n",
    "\n",
    "def predict(model, input_data, feature_names):\n",
    "    input_df = pd.DataFrame([input_data], columns=feature_names)\n",
    "    prediction = model.predict(input_df)\n",
    "    return \"Positive\" if prediction[0] == 1 else \"Negative\"\n",
    "\n",
    "\n",
    "if disease_option == \"Parkinson's\":\n",
    "    st.header(\"Parkinson's Disease Prediction\")\n",
    "    features = ['MDVP:Fo(Hz)', 'MDVP:Fhi(Hz)', 'MDVP:Flo(Hz)', 'MDVP:Jitter(%)','MDVP:Jitter(Abs)', 'MDVP:RAP', 'MDVP:PPQ', 'Jitter:DDP','MDVP:Shimmer', 'MDVP:Shimmer(dB)', 'Shimmer:APQ3', 'Shimmer:APQ5','MDVP:APQ', 'Shimmer:DDA', 'NHR', 'HNR', 'RPDE', 'DFA', 'spread1','spread2', 'D2', 'PPE']\n",
    "    inputs = [st.number_input(f, key=f) for f in features]\n",
    "    if st.button(\"Predict Parkinson's\"):\n",
    "        result = predict(parkinsons_model, inputs)\n",
    "        st.success(f\"Prediction: {result}\")\n",
    "\n",
    "elif disease_option == \"Liver Disease\":\n",
    "    st.header(\"Liver Disease Prediction\")\n",
    "    features = ['Age','Total_Bilirubin','Direct_Bilirubin','Alkaline_Phosphotase','Alamine_Aminotransferase','Aspartate_Aminotransferase','Total_Protiens','Albumin','Albumin_and_Globulin_Ratio']\n",
    "    inputs = [st.number_input(f, key=f) for f in features]\n",
    "    gender = st.selectbox(\"Gender\", [\"Male\", \"Female\"])\n",
    "    gender_val = 1 if gender == \"Male\" else 0\n",
    "    inputs.append(gender_val)\n",
    "    if st.button(\"Predict Liver Disease\"):\n",
    "        result = predict(liver_model, inputs)\n",
    "        st.success(f\"Prediction: {result}\")\n",
    "\n",
    "elif disease_option == \"Kidney Disease\":\n",
    "    st.header(\"Kidney Disease Prediction\")\n",
    "    features = ['age', 'bp', 'sg', 'bgr', 'bu', 'sc', 'sod', 'pot', 'hemo',\n",
    "                'rbc', 'pc', 'pcc', 'ba', 'pcv', 'wc', 'rc', 'htn', 'dm',\n",
    "                'cad', 'appet', 'pe', 'ane']\n",
    "\n",
    "    num_features = ['age', 'bp', 'sg', 'bgr', 'bu', 'sc', 'sod', 'pot', 'hemo', 'pcv', 'wc', 'rc']\n",
    "    cat_features = ['rbc', 'pc', 'pcc', 'ba', 'htn', 'dm', 'cad', 'appet', 'pe', 'ane']\n",
    "\n",
    "    input_data = []\n",
    "    for f in num_features:\n",
    "        input_data.append(st.number_input(f, key=f))\n",
    "\n",
    "    cat_options = {\n",
    "        'rbc': ['normal', 'abnormal'],\n",
    "        'pc': ['normal', 'abnormal'],\n",
    "        'pcc': ['notpresent', 'present'],\n",
    "        'ba': ['notpresent', 'present'],\n",
    "        'htn': ['no', 'yes'],\n",
    "        'dm': ['no', 'yes'],\n",
    "        'cad': ['no', 'yes'],\n",
    "        'appet': ['good', 'poor'],\n",
    "        'pe': ['no', 'yes'],\n",
    "        'ane': ['no', 'yes']\n",
    "    }\n",
    "\n",
    "    for f in cat_features:\n",
    "        val = st.selectbox(f, cat_options[f], key=f)\n",
    "        input_data.append(cat_options[f].index(val))\n",
    "\n",
    "    if st.button(\"Predict Kidney Disease\"):\n",
    "        result = predict(kidney_model, input_data)\n",
    "        st.success(f\"Prediction: {result}\")\n"
   ]
  },
  {
   "cell_type": "code",
   "execution_count": 12,
   "id": "9a0f6a82-8410-40e7-a46f-f047fe44e67e",
   "metadata": {},
   "outputs": [],
   "source": [
    "\n",
    "\n"
   ]
  },
  {
   "cell_type": "code",
   "execution_count": 15,
   "id": "696ad96a-257a-4721-9e2c-bd6dc5f9e41d",
   "metadata": {},
   "outputs": [
    {
     "ename": "NameError",
     "evalue": "name 'full_features' is not defined",
     "output_type": "error",
     "traceback": [
      "\u001b[1;31m---------------------------------------------------------------------------\u001b[0m",
      "\u001b[1;31mNameError\u001b[0m                                 Traceback (most recent call last)",
      "Cell \u001b[1;32mIn[15], line 1\u001b[0m\n\u001b[1;32m----> 1\u001b[0m result \u001b[38;5;241m=\u001b[39m predict(liver_model, inputs, full_features)\n",
      "\u001b[1;31mNameError\u001b[0m: name 'full_features' is not defined"
     ]
    }
   ],
   "source": [
    "result = predict(liver_model, inputs, full_features)\n"
   ]
  },
  {
   "cell_type": "code",
   "execution_count": null,
   "id": "eaa91533-4453-4beb-b5d5-8b31ef2492df",
   "metadata": {},
   "outputs": [],
   "source": []
  }
 ],
 "metadata": {
  "kernelspec": {
   "display_name": "Python 3 (ipykernel)",
   "language": "python",
   "name": "python3"
  },
  "language_info": {
   "codemirror_mode": {
    "name": "ipython",
    "version": 3
   },
   "file_extension": ".py",
   "mimetype": "text/x-python",
   "name": "python",
   "nbconvert_exporter": "python",
   "pygments_lexer": "ipython3",
   "version": "3.12.7"
  }
 },
 "nbformat": 4,
 "nbformat_minor": 5
}
